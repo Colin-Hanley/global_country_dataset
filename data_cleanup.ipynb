{
 "cells": [
  {
   "cell_type": "code",
   "execution_count": 1,
   "metadata": {
    "collapsed": true,
    "ExecuteTime": {
     "end_time": "2023-07-22T20:57:35.838329400Z",
     "start_time": "2023-07-22T20:57:35.375980600Z"
    }
   },
   "outputs": [],
   "source": [
    "#import pandas\n",
    "import pandas as pd\n",
    "import numpy as np"
   ]
  },
  {
   "cell_type": "code",
   "execution_count": 3,
   "outputs": [],
   "source": [
    "#read in the data\n",
    "country_data = pd.read_csv('world-data-2023.csv')"
   ],
   "metadata": {
    "collapsed": false,
    "ExecuteTime": {
     "end_time": "2023-07-22T20:57:52.600655900Z",
     "start_time": "2023-07-22T20:57:52.566199700Z"
    }
   }
  },
  {
   "cell_type": "code",
   "execution_count": 5,
   "outputs": [],
   "source": [
    "#in each column name, replace spaces with underscores and make all lower case\n",
    "country_data.columns = country_data.columns.str.replace(' ', '_').str.lower()"
   ],
   "metadata": {
    "collapsed": false,
    "ExecuteTime": {
     "end_time": "2023-07-22T21:01:33.934682Z",
     "start_time": "2023-07-22T21:01:33.908749700Z"
    }
   }
  },
  {
   "cell_type": "code",
   "execution_count": 6,
   "outputs": [
    {
     "data": {
      "text/plain": "         country density\\n(p/km2) abbreviation agricultural_land(_%)  \\\n0    Afghanistan               60           AF                58.10%   \n1        Albania              105           AL                43.10%   \n2        Algeria               18           DZ                17.40%   \n3        Andorra              164           AD                40.00%   \n4         Angola               26           AO                47.50%   \n..           ...              ...          ...                   ...   \n190    Venezuela               32           VE                24.50%   \n191      Vietnam              314           VN                39.30%   \n192        Yemen               56           YE                44.60%   \n193       Zambia               25           ZM                32.10%   \n194     Zimbabwe               38           ZW                41.90%   \n\n    land_area(km2) armed_forces_size  birth_rate  calling_code  \\\n0          652,230           323,000       32.49          93.0   \n1           28,748             9,000       11.78         355.0   \n2        2,381,741           317,000       24.28         213.0   \n3              468               NaN        7.20         376.0   \n4        1,246,700           117,000       40.73         244.0   \n..             ...               ...         ...           ...   \n190        912,050           343,000       17.88          58.0   \n191        331,210           522,000       16.75          84.0   \n192        527,968            40,000       30.45         967.0   \n193        752,618            16,000       36.19         260.0   \n194        390,757            51,000       30.68         263.0   \n\n    capital/major_city co2-emissions  ... out_of_pocket_health_expenditure  \\\n0                Kabul         8,672  ...                           78.40%   \n1               Tirana         4,536  ...                           56.90%   \n2              Algiers       150,006  ...                           28.10%   \n3     Andorra la Vella           469  ...                           36.40%   \n4               Luanda        34,693  ...                           33.40%   \n..                 ...           ...  ...                              ...   \n190            Caracas       164,175  ...                           45.80%   \n191              Hanoi       192,668  ...                           43.50%   \n192              Sanaa        10,609  ...                           81.00%   \n193             Lusaka         5,141  ...                           27.50%   \n194             Harare        10,983  ...                           25.80%   \n\n    physicians_per_thousand  population  \\\n0                      0.28  38,041,754   \n1                      1.20   2,854,191   \n2                      1.72  43,053,054   \n3                      3.33      77,142   \n4                      0.21  31,825,295   \n..                      ...         ...   \n190                    1.92  28,515,829   \n191                    0.82  96,462,106   \n192                    0.31  29,161,922   \n193                    1.19  17,861,030   \n194                    0.21  14,645,468   \n\n     population:_labor_force_participation_(%) tax_revenue_(%) total_tax_rate  \\\n0                                       48.90%           9.30%         71.40%   \n1                                       55.70%          18.60%         36.60%   \n2                                       41.20%          37.20%         66.10%   \n3                                          NaN             NaN            NaN   \n4                                       77.50%           9.20%         49.10%   \n..                                         ...             ...            ...   \n190                                     59.70%             NaN         73.30%   \n191                                     77.40%          19.10%         37.60%   \n192                                     38.00%             NaN         26.60%   \n193                                     74.60%          16.20%         15.60%   \n194                                     83.10%          20.70%         31.60%   \n\n    unemployment_rate urban_population   latitude   longitude  \n0              11.12%        9,797,273  33.939110   67.709953  \n1              12.33%        1,747,593  41.153332   20.168331  \n2              11.70%       31,510,100  28.033886    1.659626  \n3                 NaN           67,873  42.506285    1.521801  \n4               6.89%       21,061,025 -11.202692   17.873887  \n..                ...              ...        ...         ...  \n190             8.80%       25,162,368   6.423750  -66.589730  \n191             2.01%       35,332,140  14.058324  108.277199  \n192            12.91%       10,869,523  15.552727   48.516388  \n193            11.43%        7,871,713 -13.133897   27.849332  \n194             4.95%        4,717,305 -19.015438   29.154857  \n\n[195 rows x 35 columns]",
      "text/html": "<div>\n<style scoped>\n    .dataframe tbody tr th:only-of-type {\n        vertical-align: middle;\n    }\n\n    .dataframe tbody tr th {\n        vertical-align: top;\n    }\n\n    .dataframe thead th {\n        text-align: right;\n    }\n</style>\n<table border=\"1\" class=\"dataframe\">\n  <thead>\n    <tr style=\"text-align: right;\">\n      <th></th>\n      <th>country</th>\n      <th>density\\n(p/km2)</th>\n      <th>abbreviation</th>\n      <th>agricultural_land(_%)</th>\n      <th>land_area(km2)</th>\n      <th>armed_forces_size</th>\n      <th>birth_rate</th>\n      <th>calling_code</th>\n      <th>capital/major_city</th>\n      <th>co2-emissions</th>\n      <th>...</th>\n      <th>out_of_pocket_health_expenditure</th>\n      <th>physicians_per_thousand</th>\n      <th>population</th>\n      <th>population:_labor_force_participation_(%)</th>\n      <th>tax_revenue_(%)</th>\n      <th>total_tax_rate</th>\n      <th>unemployment_rate</th>\n      <th>urban_population</th>\n      <th>latitude</th>\n      <th>longitude</th>\n    </tr>\n  </thead>\n  <tbody>\n    <tr>\n      <th>0</th>\n      <td>Afghanistan</td>\n      <td>60</td>\n      <td>AF</td>\n      <td>58.10%</td>\n      <td>652,230</td>\n      <td>323,000</td>\n      <td>32.49</td>\n      <td>93.0</td>\n      <td>Kabul</td>\n      <td>8,672</td>\n      <td>...</td>\n      <td>78.40%</td>\n      <td>0.28</td>\n      <td>38,041,754</td>\n      <td>48.90%</td>\n      <td>9.30%</td>\n      <td>71.40%</td>\n      <td>11.12%</td>\n      <td>9,797,273</td>\n      <td>33.939110</td>\n      <td>67.709953</td>\n    </tr>\n    <tr>\n      <th>1</th>\n      <td>Albania</td>\n      <td>105</td>\n      <td>AL</td>\n      <td>43.10%</td>\n      <td>28,748</td>\n      <td>9,000</td>\n      <td>11.78</td>\n      <td>355.0</td>\n      <td>Tirana</td>\n      <td>4,536</td>\n      <td>...</td>\n      <td>56.90%</td>\n      <td>1.20</td>\n      <td>2,854,191</td>\n      <td>55.70%</td>\n      <td>18.60%</td>\n      <td>36.60%</td>\n      <td>12.33%</td>\n      <td>1,747,593</td>\n      <td>41.153332</td>\n      <td>20.168331</td>\n    </tr>\n    <tr>\n      <th>2</th>\n      <td>Algeria</td>\n      <td>18</td>\n      <td>DZ</td>\n      <td>17.40%</td>\n      <td>2,381,741</td>\n      <td>317,000</td>\n      <td>24.28</td>\n      <td>213.0</td>\n      <td>Algiers</td>\n      <td>150,006</td>\n      <td>...</td>\n      <td>28.10%</td>\n      <td>1.72</td>\n      <td>43,053,054</td>\n      <td>41.20%</td>\n      <td>37.20%</td>\n      <td>66.10%</td>\n      <td>11.70%</td>\n      <td>31,510,100</td>\n      <td>28.033886</td>\n      <td>1.659626</td>\n    </tr>\n    <tr>\n      <th>3</th>\n      <td>Andorra</td>\n      <td>164</td>\n      <td>AD</td>\n      <td>40.00%</td>\n      <td>468</td>\n      <td>NaN</td>\n      <td>7.20</td>\n      <td>376.0</td>\n      <td>Andorra la Vella</td>\n      <td>469</td>\n      <td>...</td>\n      <td>36.40%</td>\n      <td>3.33</td>\n      <td>77,142</td>\n      <td>NaN</td>\n      <td>NaN</td>\n      <td>NaN</td>\n      <td>NaN</td>\n      <td>67,873</td>\n      <td>42.506285</td>\n      <td>1.521801</td>\n    </tr>\n    <tr>\n      <th>4</th>\n      <td>Angola</td>\n      <td>26</td>\n      <td>AO</td>\n      <td>47.50%</td>\n      <td>1,246,700</td>\n      <td>117,000</td>\n      <td>40.73</td>\n      <td>244.0</td>\n      <td>Luanda</td>\n      <td>34,693</td>\n      <td>...</td>\n      <td>33.40%</td>\n      <td>0.21</td>\n      <td>31,825,295</td>\n      <td>77.50%</td>\n      <td>9.20%</td>\n      <td>49.10%</td>\n      <td>6.89%</td>\n      <td>21,061,025</td>\n      <td>-11.202692</td>\n      <td>17.873887</td>\n    </tr>\n    <tr>\n      <th>...</th>\n      <td>...</td>\n      <td>...</td>\n      <td>...</td>\n      <td>...</td>\n      <td>...</td>\n      <td>...</td>\n      <td>...</td>\n      <td>...</td>\n      <td>...</td>\n      <td>...</td>\n      <td>...</td>\n      <td>...</td>\n      <td>...</td>\n      <td>...</td>\n      <td>...</td>\n      <td>...</td>\n      <td>...</td>\n      <td>...</td>\n      <td>...</td>\n      <td>...</td>\n      <td>...</td>\n    </tr>\n    <tr>\n      <th>190</th>\n      <td>Venezuela</td>\n      <td>32</td>\n      <td>VE</td>\n      <td>24.50%</td>\n      <td>912,050</td>\n      <td>343,000</td>\n      <td>17.88</td>\n      <td>58.0</td>\n      <td>Caracas</td>\n      <td>164,175</td>\n      <td>...</td>\n      <td>45.80%</td>\n      <td>1.92</td>\n      <td>28,515,829</td>\n      <td>59.70%</td>\n      <td>NaN</td>\n      <td>73.30%</td>\n      <td>8.80%</td>\n      <td>25,162,368</td>\n      <td>6.423750</td>\n      <td>-66.589730</td>\n    </tr>\n    <tr>\n      <th>191</th>\n      <td>Vietnam</td>\n      <td>314</td>\n      <td>VN</td>\n      <td>39.30%</td>\n      <td>331,210</td>\n      <td>522,000</td>\n      <td>16.75</td>\n      <td>84.0</td>\n      <td>Hanoi</td>\n      <td>192,668</td>\n      <td>...</td>\n      <td>43.50%</td>\n      <td>0.82</td>\n      <td>96,462,106</td>\n      <td>77.40%</td>\n      <td>19.10%</td>\n      <td>37.60%</td>\n      <td>2.01%</td>\n      <td>35,332,140</td>\n      <td>14.058324</td>\n      <td>108.277199</td>\n    </tr>\n    <tr>\n      <th>192</th>\n      <td>Yemen</td>\n      <td>56</td>\n      <td>YE</td>\n      <td>44.60%</td>\n      <td>527,968</td>\n      <td>40,000</td>\n      <td>30.45</td>\n      <td>967.0</td>\n      <td>Sanaa</td>\n      <td>10,609</td>\n      <td>...</td>\n      <td>81.00%</td>\n      <td>0.31</td>\n      <td>29,161,922</td>\n      <td>38.00%</td>\n      <td>NaN</td>\n      <td>26.60%</td>\n      <td>12.91%</td>\n      <td>10,869,523</td>\n      <td>15.552727</td>\n      <td>48.516388</td>\n    </tr>\n    <tr>\n      <th>193</th>\n      <td>Zambia</td>\n      <td>25</td>\n      <td>ZM</td>\n      <td>32.10%</td>\n      <td>752,618</td>\n      <td>16,000</td>\n      <td>36.19</td>\n      <td>260.0</td>\n      <td>Lusaka</td>\n      <td>5,141</td>\n      <td>...</td>\n      <td>27.50%</td>\n      <td>1.19</td>\n      <td>17,861,030</td>\n      <td>74.60%</td>\n      <td>16.20%</td>\n      <td>15.60%</td>\n      <td>11.43%</td>\n      <td>7,871,713</td>\n      <td>-13.133897</td>\n      <td>27.849332</td>\n    </tr>\n    <tr>\n      <th>194</th>\n      <td>Zimbabwe</td>\n      <td>38</td>\n      <td>ZW</td>\n      <td>41.90%</td>\n      <td>390,757</td>\n      <td>51,000</td>\n      <td>30.68</td>\n      <td>263.0</td>\n      <td>Harare</td>\n      <td>10,983</td>\n      <td>...</td>\n      <td>25.80%</td>\n      <td>0.21</td>\n      <td>14,645,468</td>\n      <td>83.10%</td>\n      <td>20.70%</td>\n      <td>31.60%</td>\n      <td>4.95%</td>\n      <td>4,717,305</td>\n      <td>-19.015438</td>\n      <td>29.154857</td>\n    </tr>\n  </tbody>\n</table>\n<p>195 rows × 35 columns</p>\n</div>"
     },
     "execution_count": 6,
     "metadata": {},
     "output_type": "execute_result"
    }
   ],
   "source": [
    "country_data"
   ],
   "metadata": {
    "collapsed": false,
    "ExecuteTime": {
     "end_time": "2023-07-22T21:01:44.259016300Z",
     "start_time": "2023-07-22T21:01:44.232086100Z"
    }
   }
  },
  {
   "cell_type": "code",
   "execution_count": 8,
   "outputs": [],
   "source": [
    "unwanted_cols = ['abbreviation','calling_code','capital/major_city','largest_city','country']\n",
    "#drop the unwanted columns from the dataframe\n",
    "country_data.drop(unwanted_cols, axis=1, inplace=True)"
   ],
   "metadata": {
    "collapsed": false,
    "ExecuteTime": {
     "end_time": "2023-07-22T21:03:54.455658300Z",
     "start_time": "2023-07-22T21:03:54.435713800Z"
    }
   }
  },
  {
   "cell_type": "code",
   "execution_count": 9,
   "outputs": [
    {
     "data": {
      "text/plain": "         country density\\n(p/km2) agricultural_land(_%) land_area(km2)  \\\n0    Afghanistan               60                58.10%        652,230   \n1        Albania              105                43.10%         28,748   \n2        Algeria               18                17.40%      2,381,741   \n3        Andorra              164                40.00%            468   \n4         Angola               26                47.50%      1,246,700   \n..           ...              ...                   ...            ...   \n190    Venezuela               32                24.50%        912,050   \n191      Vietnam              314                39.30%        331,210   \n192        Yemen               56                44.60%        527,968   \n193       Zambia               25                32.10%        752,618   \n194     Zimbabwe               38                41.90%        390,757   \n\n    armed_forces_size  birth_rate co2-emissions       cpi cpi_change_(%)  \\\n0             323,000       32.49         8,672     149.9          2.30%   \n1               9,000       11.78         4,536    119.05          1.40%   \n2             317,000       24.28       150,006    151.36          2.00%   \n3                 NaN        7.20           469       NaN            NaN   \n4             117,000       40.73        34,693    261.73         17.10%   \n..                ...         ...           ...       ...            ...   \n190           343,000       17.88       164,175  2,740.27        254.90%   \n191           522,000       16.75       192,668    163.52          2.80%   \n192            40,000       30.45        10,609    157.58          8.10%   \n193            16,000       36.19         5,141    212.31          9.20%   \n194            51,000       30.68        10,983    105.51          0.90%   \n\n    currency-code  ...  out_of_pocket_health_expenditure  \\\n0             AFN  ...                            78.40%   \n1             ALL  ...                            56.90%   \n2             DZD  ...                            28.10%   \n3             EUR  ...                            36.40%   \n4             AOA  ...                            33.40%   \n..            ...  ...                               ...   \n190           VED  ...                            45.80%   \n191           VND  ...                            43.50%   \n192           YER  ...                            81.00%   \n193           ZMW  ...                            27.50%   \n194           NaN  ...                            25.80%   \n\n    physicians_per_thousand  population  \\\n0                      0.28  38,041,754   \n1                      1.20   2,854,191   \n2                      1.72  43,053,054   \n3                      3.33      77,142   \n4                      0.21  31,825,295   \n..                      ...         ...   \n190                    1.92  28,515,829   \n191                    0.82  96,462,106   \n192                    0.31  29,161,922   \n193                    1.19  17,861,030   \n194                    0.21  14,645,468   \n\n    population:_labor_force_participation_(%) tax_revenue_(%) total_tax_rate  \\\n0                                      48.90%           9.30%         71.40%   \n1                                      55.70%          18.60%         36.60%   \n2                                      41.20%          37.20%         66.10%   \n3                                         NaN             NaN            NaN   \n4                                      77.50%           9.20%         49.10%   \n..                                        ...             ...            ...   \n190                                    59.70%             NaN         73.30%   \n191                                    77.40%          19.10%         37.60%   \n192                                    38.00%             NaN         26.60%   \n193                                    74.60%          16.20%         15.60%   \n194                                    83.10%          20.70%         31.60%   \n\n     unemployment_rate  urban_population   latitude   longitude  \n0               11.12%         9,797,273  33.939110   67.709953  \n1               12.33%         1,747,593  41.153332   20.168331  \n2               11.70%        31,510,100  28.033886    1.659626  \n3                  NaN            67,873  42.506285    1.521801  \n4                6.89%        21,061,025 -11.202692   17.873887  \n..                 ...               ...        ...         ...  \n190              8.80%        25,162,368   6.423750  -66.589730  \n191              2.01%        35,332,140  14.058324  108.277199  \n192             12.91%        10,869,523  15.552727   48.516388  \n193             11.43%         7,871,713 -13.133897   27.849332  \n194              4.95%         4,717,305 -19.015438   29.154857  \n\n[195 rows x 31 columns]",
      "text/html": "<div>\n<style scoped>\n    .dataframe tbody tr th:only-of-type {\n        vertical-align: middle;\n    }\n\n    .dataframe tbody tr th {\n        vertical-align: top;\n    }\n\n    .dataframe thead th {\n        text-align: right;\n    }\n</style>\n<table border=\"1\" class=\"dataframe\">\n  <thead>\n    <tr style=\"text-align: right;\">\n      <th></th>\n      <th>country</th>\n      <th>density\\n(p/km2)</th>\n      <th>agricultural_land(_%)</th>\n      <th>land_area(km2)</th>\n      <th>armed_forces_size</th>\n      <th>birth_rate</th>\n      <th>co2-emissions</th>\n      <th>cpi</th>\n      <th>cpi_change_(%)</th>\n      <th>currency-code</th>\n      <th>...</th>\n      <th>out_of_pocket_health_expenditure</th>\n      <th>physicians_per_thousand</th>\n      <th>population</th>\n      <th>population:_labor_force_participation_(%)</th>\n      <th>tax_revenue_(%)</th>\n      <th>total_tax_rate</th>\n      <th>unemployment_rate</th>\n      <th>urban_population</th>\n      <th>latitude</th>\n      <th>longitude</th>\n    </tr>\n  </thead>\n  <tbody>\n    <tr>\n      <th>0</th>\n      <td>Afghanistan</td>\n      <td>60</td>\n      <td>58.10%</td>\n      <td>652,230</td>\n      <td>323,000</td>\n      <td>32.49</td>\n      <td>8,672</td>\n      <td>149.9</td>\n      <td>2.30%</td>\n      <td>AFN</td>\n      <td>...</td>\n      <td>78.40%</td>\n      <td>0.28</td>\n      <td>38,041,754</td>\n      <td>48.90%</td>\n      <td>9.30%</td>\n      <td>71.40%</td>\n      <td>11.12%</td>\n      <td>9,797,273</td>\n      <td>33.939110</td>\n      <td>67.709953</td>\n    </tr>\n    <tr>\n      <th>1</th>\n      <td>Albania</td>\n      <td>105</td>\n      <td>43.10%</td>\n      <td>28,748</td>\n      <td>9,000</td>\n      <td>11.78</td>\n      <td>4,536</td>\n      <td>119.05</td>\n      <td>1.40%</td>\n      <td>ALL</td>\n      <td>...</td>\n      <td>56.90%</td>\n      <td>1.20</td>\n      <td>2,854,191</td>\n      <td>55.70%</td>\n      <td>18.60%</td>\n      <td>36.60%</td>\n      <td>12.33%</td>\n      <td>1,747,593</td>\n      <td>41.153332</td>\n      <td>20.168331</td>\n    </tr>\n    <tr>\n      <th>2</th>\n      <td>Algeria</td>\n      <td>18</td>\n      <td>17.40%</td>\n      <td>2,381,741</td>\n      <td>317,000</td>\n      <td>24.28</td>\n      <td>150,006</td>\n      <td>151.36</td>\n      <td>2.00%</td>\n      <td>DZD</td>\n      <td>...</td>\n      <td>28.10%</td>\n      <td>1.72</td>\n      <td>43,053,054</td>\n      <td>41.20%</td>\n      <td>37.20%</td>\n      <td>66.10%</td>\n      <td>11.70%</td>\n      <td>31,510,100</td>\n      <td>28.033886</td>\n      <td>1.659626</td>\n    </tr>\n    <tr>\n      <th>3</th>\n      <td>Andorra</td>\n      <td>164</td>\n      <td>40.00%</td>\n      <td>468</td>\n      <td>NaN</td>\n      <td>7.20</td>\n      <td>469</td>\n      <td>NaN</td>\n      <td>NaN</td>\n      <td>EUR</td>\n      <td>...</td>\n      <td>36.40%</td>\n      <td>3.33</td>\n      <td>77,142</td>\n      <td>NaN</td>\n      <td>NaN</td>\n      <td>NaN</td>\n      <td>NaN</td>\n      <td>67,873</td>\n      <td>42.506285</td>\n      <td>1.521801</td>\n    </tr>\n    <tr>\n      <th>4</th>\n      <td>Angola</td>\n      <td>26</td>\n      <td>47.50%</td>\n      <td>1,246,700</td>\n      <td>117,000</td>\n      <td>40.73</td>\n      <td>34,693</td>\n      <td>261.73</td>\n      <td>17.10%</td>\n      <td>AOA</td>\n      <td>...</td>\n      <td>33.40%</td>\n      <td>0.21</td>\n      <td>31,825,295</td>\n      <td>77.50%</td>\n      <td>9.20%</td>\n      <td>49.10%</td>\n      <td>6.89%</td>\n      <td>21,061,025</td>\n      <td>-11.202692</td>\n      <td>17.873887</td>\n    </tr>\n    <tr>\n      <th>...</th>\n      <td>...</td>\n      <td>...</td>\n      <td>...</td>\n      <td>...</td>\n      <td>...</td>\n      <td>...</td>\n      <td>...</td>\n      <td>...</td>\n      <td>...</td>\n      <td>...</td>\n      <td>...</td>\n      <td>...</td>\n      <td>...</td>\n      <td>...</td>\n      <td>...</td>\n      <td>...</td>\n      <td>...</td>\n      <td>...</td>\n      <td>...</td>\n      <td>...</td>\n      <td>...</td>\n    </tr>\n    <tr>\n      <th>190</th>\n      <td>Venezuela</td>\n      <td>32</td>\n      <td>24.50%</td>\n      <td>912,050</td>\n      <td>343,000</td>\n      <td>17.88</td>\n      <td>164,175</td>\n      <td>2,740.27</td>\n      <td>254.90%</td>\n      <td>VED</td>\n      <td>...</td>\n      <td>45.80%</td>\n      <td>1.92</td>\n      <td>28,515,829</td>\n      <td>59.70%</td>\n      <td>NaN</td>\n      <td>73.30%</td>\n      <td>8.80%</td>\n      <td>25,162,368</td>\n      <td>6.423750</td>\n      <td>-66.589730</td>\n    </tr>\n    <tr>\n      <th>191</th>\n      <td>Vietnam</td>\n      <td>314</td>\n      <td>39.30%</td>\n      <td>331,210</td>\n      <td>522,000</td>\n      <td>16.75</td>\n      <td>192,668</td>\n      <td>163.52</td>\n      <td>2.80%</td>\n      <td>VND</td>\n      <td>...</td>\n      <td>43.50%</td>\n      <td>0.82</td>\n      <td>96,462,106</td>\n      <td>77.40%</td>\n      <td>19.10%</td>\n      <td>37.60%</td>\n      <td>2.01%</td>\n      <td>35,332,140</td>\n      <td>14.058324</td>\n      <td>108.277199</td>\n    </tr>\n    <tr>\n      <th>192</th>\n      <td>Yemen</td>\n      <td>56</td>\n      <td>44.60%</td>\n      <td>527,968</td>\n      <td>40,000</td>\n      <td>30.45</td>\n      <td>10,609</td>\n      <td>157.58</td>\n      <td>8.10%</td>\n      <td>YER</td>\n      <td>...</td>\n      <td>81.00%</td>\n      <td>0.31</td>\n      <td>29,161,922</td>\n      <td>38.00%</td>\n      <td>NaN</td>\n      <td>26.60%</td>\n      <td>12.91%</td>\n      <td>10,869,523</td>\n      <td>15.552727</td>\n      <td>48.516388</td>\n    </tr>\n    <tr>\n      <th>193</th>\n      <td>Zambia</td>\n      <td>25</td>\n      <td>32.10%</td>\n      <td>752,618</td>\n      <td>16,000</td>\n      <td>36.19</td>\n      <td>5,141</td>\n      <td>212.31</td>\n      <td>9.20%</td>\n      <td>ZMW</td>\n      <td>...</td>\n      <td>27.50%</td>\n      <td>1.19</td>\n      <td>17,861,030</td>\n      <td>74.60%</td>\n      <td>16.20%</td>\n      <td>15.60%</td>\n      <td>11.43%</td>\n      <td>7,871,713</td>\n      <td>-13.133897</td>\n      <td>27.849332</td>\n    </tr>\n    <tr>\n      <th>194</th>\n      <td>Zimbabwe</td>\n      <td>38</td>\n      <td>41.90%</td>\n      <td>390,757</td>\n      <td>51,000</td>\n      <td>30.68</td>\n      <td>10,983</td>\n      <td>105.51</td>\n      <td>0.90%</td>\n      <td>NaN</td>\n      <td>...</td>\n      <td>25.80%</td>\n      <td>0.21</td>\n      <td>14,645,468</td>\n      <td>83.10%</td>\n      <td>20.70%</td>\n      <td>31.60%</td>\n      <td>4.95%</td>\n      <td>4,717,305</td>\n      <td>-19.015438</td>\n      <td>29.154857</td>\n    </tr>\n  </tbody>\n</table>\n<p>195 rows × 31 columns</p>\n</div>"
     },
     "execution_count": 9,
     "metadata": {},
     "output_type": "execute_result"
    }
   ],
   "source": [
    "country_data"
   ],
   "metadata": {
    "collapsed": false,
    "ExecuteTime": {
     "end_time": "2023-07-22T21:03:56.721744900Z",
     "start_time": "2023-07-22T21:03:56.718751800Z"
    }
   }
  },
  {
   "cell_type": "code",
   "execution_count": null,
   "outputs": [],
   "source": [],
   "metadata": {
    "collapsed": false
   }
  }
 ],
 "metadata": {
  "kernelspec": {
   "display_name": "Python 3",
   "language": "python",
   "name": "python3"
  },
  "language_info": {
   "codemirror_mode": {
    "name": "ipython",
    "version": 2
   },
   "file_extension": ".py",
   "mimetype": "text/x-python",
   "name": "python",
   "nbconvert_exporter": "python",
   "pygments_lexer": "ipython2",
   "version": "2.7.6"
  }
 },
 "nbformat": 4,
 "nbformat_minor": 0
}
